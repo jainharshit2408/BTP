{
  "cells": [
    {
      "cell_type": "markdown",
      "metadata": {
        "id": "view-in-github",
        "colab_type": "text"
      },
      "source": [
        "<a href=\"https://colab.research.google.com/github/jainharshit2408/BTP/blob/main/BTP.ipynb\" target=\"_parent\"><img src=\"https://colab.research.google.com/assets/colab-badge.svg\" alt=\"Open In Colab\"/></a>"
      ]
    },
    {
      "cell_type": "code",
      "execution_count": 1,
      "metadata": {
        "colab": {
          "base_uri": "https://localhost:8080/"
        },
        "id": "_gNLWwWsM01Y",
        "outputId": "134a7373-b0a8-4188-f278-891041274bdb"
      },
      "outputs": [
        {
          "output_type": "stream",
          "name": "stdout",
          "text": [
            "fatal: destination path 'W_DIP' already exists and is not an empty directory.\n"
          ]
        }
      ],
      "source": [
        "!git clone https://github.com/gbredell/W_DIP.git"
      ]
    },
    {
      "cell_type": "code",
      "execution_count": 2,
      "metadata": {
        "colab": {
          "base_uri": "https://localhost:8080/"
        },
        "id": "sMCGISVjNDsz",
        "outputId": "ff2c7295-28c8-4e00-d720-2c0386e3cf2b"
      },
      "outputs": [
        {
          "output_type": "stream",
          "name": "stdout",
          "text": [
            "Requirement already satisfied: torch in /usr/local/lib/python3.10/dist-packages (2.2.1+cu121)\n",
            "Requirement already satisfied: torchvision in /usr/local/lib/python3.10/dist-packages (0.17.1+cu121)\n",
            "Requirement already satisfied: torchaudio in /usr/local/lib/python3.10/dist-packages (2.2.1+cu121)\n",
            "Requirement already satisfied: filelock in /usr/local/lib/python3.10/dist-packages (from torch) (3.13.1)\n",
            "Requirement already satisfied: typing-extensions>=4.8.0 in /usr/local/lib/python3.10/dist-packages (from torch) (4.10.0)\n",
            "Requirement already satisfied: sympy in /usr/local/lib/python3.10/dist-packages (from torch) (1.12)\n",
            "Requirement already satisfied: networkx in /usr/local/lib/python3.10/dist-packages (from torch) (3.2.1)\n",
            "Requirement already satisfied: jinja2 in /usr/local/lib/python3.10/dist-packages (from torch) (3.1.3)\n",
            "Requirement already satisfied: fsspec in /usr/local/lib/python3.10/dist-packages (from torch) (2023.6.0)\n",
            "Collecting nvidia-cuda-nvrtc-cu12==12.1.105 (from torch)\n",
            "  Using cached nvidia_cuda_nvrtc_cu12-12.1.105-py3-none-manylinux1_x86_64.whl (23.7 MB)\n",
            "Collecting nvidia-cuda-runtime-cu12==12.1.105 (from torch)\n",
            "  Using cached nvidia_cuda_runtime_cu12-12.1.105-py3-none-manylinux1_x86_64.whl (823 kB)\n",
            "Collecting nvidia-cuda-cupti-cu12==12.1.105 (from torch)\n",
            "  Using cached nvidia_cuda_cupti_cu12-12.1.105-py3-none-manylinux1_x86_64.whl (14.1 MB)\n",
            "Collecting nvidia-cudnn-cu12==8.9.2.26 (from torch)\n",
            "  Using cached nvidia_cudnn_cu12-8.9.2.26-py3-none-manylinux1_x86_64.whl (731.7 MB)\n",
            "Collecting nvidia-cublas-cu12==12.1.3.1 (from torch)\n",
            "  Using cached nvidia_cublas_cu12-12.1.3.1-py3-none-manylinux1_x86_64.whl (410.6 MB)\n",
            "Collecting nvidia-cufft-cu12==11.0.2.54 (from torch)\n",
            "  Using cached nvidia_cufft_cu12-11.0.2.54-py3-none-manylinux1_x86_64.whl (121.6 MB)\n",
            "Collecting nvidia-curand-cu12==10.3.2.106 (from torch)\n",
            "  Using cached nvidia_curand_cu12-10.3.2.106-py3-none-manylinux1_x86_64.whl (56.5 MB)\n",
            "Collecting nvidia-cusolver-cu12==11.4.5.107 (from torch)\n",
            "  Downloading nvidia_cusolver_cu12-11.4.5.107-py3-none-manylinux1_x86_64.whl (124.2 MB)\n",
            "\u001b[2K     \u001b[90m━━━━━━━━━━━━━━━━━━━━━━━━━━━━━━━━━━━━━━━━\u001b[0m \u001b[32m124.2/124.2 MB\u001b[0m \u001b[31m3.0 MB/s\u001b[0m eta \u001b[36m0:00:00\u001b[0m\n",
            "\u001b[?25hCollecting nvidia-cusparse-cu12==12.1.0.106 (from torch)\n",
            "  Downloading nvidia_cusparse_cu12-12.1.0.106-py3-none-manylinux1_x86_64.whl (196.0 MB)\n",
            "\u001b[2K     \u001b[90m━━━━━━━━━━━━━━━━━━━━━━━━━━━━━━━━━━━━━━━━\u001b[0m \u001b[32m196.0/196.0 MB\u001b[0m \u001b[31m3.3 MB/s\u001b[0m eta \u001b[36m0:00:00\u001b[0m\n",
            "\u001b[?25hCollecting nvidia-nccl-cu12==2.19.3 (from torch)\n",
            "  Downloading nvidia_nccl_cu12-2.19.3-py3-none-manylinux1_x86_64.whl (166.0 MB)\n",
            "\u001b[2K     \u001b[90m━━━━━━━━━━━━━━━━━━━━━━━━━━━━━━━━━━━━━━━━\u001b[0m \u001b[32m166.0/166.0 MB\u001b[0m \u001b[31m3.0 MB/s\u001b[0m eta \u001b[36m0:00:00\u001b[0m\n",
            "\u001b[?25hCollecting nvidia-nvtx-cu12==12.1.105 (from torch)\n",
            "  Downloading nvidia_nvtx_cu12-12.1.105-py3-none-manylinux1_x86_64.whl (99 kB)\n",
            "\u001b[2K     \u001b[90m━━━━━━━━━━━━━━━━━━━━━━━━━━━━━━━━━━━━━━━━\u001b[0m \u001b[32m99.1/99.1 kB\u001b[0m \u001b[31m12.6 MB/s\u001b[0m eta \u001b[36m0:00:00\u001b[0m\n",
            "\u001b[?25hRequirement already satisfied: triton==2.2.0 in /usr/local/lib/python3.10/dist-packages (from torch) (2.2.0)\n",
            "Collecting nvidia-nvjitlink-cu12 (from nvidia-cusolver-cu12==11.4.5.107->torch)\n",
            "  Downloading nvidia_nvjitlink_cu12-12.4.99-py3-none-manylinux2014_x86_64.whl (21.1 MB)\n",
            "\u001b[2K     \u001b[90m━━━━━━━━━━━━━━━━━━━━━━━━━━━━━━━━━━━━━━━━\u001b[0m \u001b[32m21.1/21.1 MB\u001b[0m \u001b[31m28.3 MB/s\u001b[0m eta \u001b[36m0:00:00\u001b[0m\n",
            "\u001b[?25hRequirement already satisfied: numpy in /usr/local/lib/python3.10/dist-packages (from torchvision) (1.25.2)\n",
            "Requirement already satisfied: pillow!=8.3.*,>=5.3.0 in /usr/local/lib/python3.10/dist-packages (from torchvision) (9.4.0)\n",
            "Requirement already satisfied: MarkupSafe>=2.0 in /usr/local/lib/python3.10/dist-packages (from jinja2->torch) (2.1.5)\n",
            "Requirement already satisfied: mpmath>=0.19 in /usr/local/lib/python3.10/dist-packages (from sympy->torch) (1.3.0)\n",
            "Installing collected packages: nvidia-nvtx-cu12, nvidia-nvjitlink-cu12, nvidia-nccl-cu12, nvidia-curand-cu12, nvidia-cufft-cu12, nvidia-cuda-runtime-cu12, nvidia-cuda-nvrtc-cu12, nvidia-cuda-cupti-cu12, nvidia-cublas-cu12, nvidia-cusparse-cu12, nvidia-cudnn-cu12, nvidia-cusolver-cu12\n",
            "Successfully installed nvidia-cublas-cu12-12.1.3.1 nvidia-cuda-cupti-cu12-12.1.105 nvidia-cuda-nvrtc-cu12-12.1.105 nvidia-cuda-runtime-cu12-12.1.105 nvidia-cudnn-cu12-8.9.2.26 nvidia-cufft-cu12-11.0.2.54 nvidia-curand-cu12-10.3.2.106 nvidia-cusolver-cu12-11.4.5.107 nvidia-cusparse-cu12-12.1.0.106 nvidia-nccl-cu12-2.19.3 nvidia-nvjitlink-cu12-12.4.99 nvidia-nvtx-cu12-12.1.105\n"
          ]
        }
      ],
      "source": [
        "pip install torch torchvision torchaudio"
      ]
    },
    {
      "cell_type": "code",
      "execution_count": 3,
      "metadata": {
        "colab": {
          "base_uri": "https://localhost:8080/"
        },
        "id": "mMgNaC0xNSA5",
        "outputId": "9a9576d6-8825-4b56-973a-246750b87f0f"
      },
      "outputs": [
        {
          "output_type": "stream",
          "name": "stdout",
          "text": [
            "Requirement already satisfied: tqdm in /usr/local/lib/python3.10/dist-packages (4.66.2)\n",
            "Requirement already satisfied: opencv-python in /usr/local/lib/python3.10/dist-packages (4.8.0.76)\n",
            "Requirement already satisfied: numpy>=1.21.2 in /usr/local/lib/python3.10/dist-packages (from opencv-python) (1.25.2)\n",
            "Requirement already satisfied: scikit-image in /usr/local/lib/python3.10/dist-packages (0.19.3)\n",
            "Requirement already satisfied: numpy>=1.17.0 in /usr/local/lib/python3.10/dist-packages (from scikit-image) (1.25.2)\n",
            "Requirement already satisfied: scipy>=1.4.1 in /usr/local/lib/python3.10/dist-packages (from scikit-image) (1.11.4)\n",
            "Requirement already satisfied: networkx>=2.2 in /usr/local/lib/python3.10/dist-packages (from scikit-image) (3.2.1)\n",
            "Requirement already satisfied: pillow!=7.1.0,!=7.1.1,!=8.3.0,>=6.1.0 in /usr/local/lib/python3.10/dist-packages (from scikit-image) (9.4.0)\n",
            "Requirement already satisfied: imageio>=2.4.1 in /usr/local/lib/python3.10/dist-packages (from scikit-image) (2.31.6)\n",
            "Requirement already satisfied: tifffile>=2019.7.26 in /usr/local/lib/python3.10/dist-packages (from scikit-image) (2024.2.12)\n",
            "Requirement already satisfied: PyWavelets>=1.1.1 in /usr/local/lib/python3.10/dist-packages (from scikit-image) (1.5.0)\n",
            "Requirement already satisfied: packaging>=20.0 in /usr/local/lib/python3.10/dist-packages (from scikit-image) (24.0)\n"
          ]
        }
      ],
      "source": [
        "!pip install tqdm\n",
        "!pip install opencv-python\n",
        "!pip install scikit-image"
      ]
    },
    {
      "cell_type": "code",
      "execution_count": 4,
      "metadata": {
        "colab": {
          "base_uri": "https://localhost:8080/"
        },
        "id": "afxZG_XHNx5B",
        "outputId": "4048918c-4bd8-4432-d4a5-1060851afab6"
      },
      "outputs": [
        {
          "output_type": "stream",
          "name": "stdout",
          "text": [
            "\u001b[0m\u001b[01;34mresults\u001b[0m/  \u001b[01;34mresults_lai\u001b[0m/  \u001b[01;34msample_data\u001b[0m/  \u001b[01;34mW_DIP\u001b[0m/\n"
          ]
        }
      ],
      "source": [
        "ls"
      ]
    },
    {
      "cell_type": "code",
      "execution_count": 5,
      "metadata": {
        "colab": {
          "base_uri": "https://localhost:8080/"
        },
        "id": "Pr8tfefEOh1v",
        "outputId": "575183ec-a1f8-499a-9b1e-d40e70f73c92"
      },
      "outputs": [
        {
          "output_type": "stream",
          "name": "stdout",
          "text": [
            "/content/W_DIP\n"
          ]
        }
      ],
      "source": [
        "cd W_DIP"
      ]
    },
    {
      "cell_type": "code",
      "execution_count": 6,
      "metadata": {
        "id": "8b_aK4OVOo3x",
        "colab": {
          "base_uri": "https://localhost:8080/"
        },
        "outputId": "4d5245e5-d2a0-4644-f5ae-cf3461b32a22"
      },
      "outputs": [
        {
          "output_type": "stream",
          "name": "stdout",
          "text": [
            "[17, 17]\n",
            "im1_kernel1_img\n",
            "100% 500/500 [00:34<00:00, 14.39it/s]\n",
            "[15, 15]\n",
            "im1_kernel2_img\n",
            "100% 500/500 [00:33<00:00, 15.15it/s]\n",
            "[13, 13]\n",
            "im1_kernel3_img\n",
            "100% 500/500 [00:32<00:00, 15.45it/s]\n",
            "[27, 27]\n",
            "im1_kernel4_img\n",
            "100% 500/500 [00:38<00:00, 12.88it/s]\n",
            "[11, 11]\n",
            "im1_kernel5_img\n",
            "100% 500/500 [00:32<00:00, 15.29it/s]\n",
            "[19, 19]\n",
            "im1_kernel6_img\n",
            "100% 500/500 [00:35<00:00, 14.06it/s]\n",
            "[21, 21]\n",
            "im1_kernel7_img\n",
            "100% 500/500 [00:36<00:00, 13.84it/s]\n",
            "[21, 21]\n",
            "im1_kernel8_img\n",
            "100% 500/500 [00:35<00:00, 13.92it/s]\n",
            "[17, 17]\n",
            "im2_kernel1_img\n",
            "100% 500/500 [00:33<00:00, 14.76it/s]\n",
            "[15, 15]\n",
            "im2_kernel2_img\n",
            "100% 500/500 [00:33<00:00, 14.93it/s]\n",
            "[13, 13]\n",
            "im2_kernel3_img\n",
            "100% 500/500 [00:32<00:00, 15.20it/s]\n",
            "[27, 27]\n",
            "im2_kernel4_img\n",
            "100% 500/500 [00:39<00:00, 12.81it/s]\n",
            "[11, 11]\n",
            "im2_kernel5_img\n",
            "100% 500/500 [00:32<00:00, 15.26it/s]\n",
            "[19, 19]\n",
            "im2_kernel6_img\n",
            "100% 500/500 [00:35<00:00, 13.93it/s]\n",
            "[21, 21]\n",
            "im2_kernel7_img\n",
            "100% 500/500 [00:36<00:00, 13.84it/s]\n",
            "[21, 21]\n",
            "im2_kernel8_img\n",
            "100% 500/500 [00:36<00:00, 13.85it/s]\n",
            "[17, 17]\n",
            "im3_kernel1_img\n",
            "100% 500/500 [00:34<00:00, 14.66it/s]\n",
            "[15, 15]\n",
            "im3_kernel2_img\n",
            "100% 500/500 [00:33<00:00, 14.88it/s]\n",
            "[13, 13]\n",
            "im3_kernel3_img\n",
            "100% 500/500 [00:33<00:00, 15.07it/s]\n",
            "[27, 27]\n",
            "im3_kernel4_img\n",
            "100% 500/500 [00:39<00:00, 12.71it/s]\n",
            "[11, 11]\n",
            "im3_kernel5_img\n",
            "100% 500/500 [00:32<00:00, 15.21it/s]\n",
            "[21, 21]\n",
            "im3_kernel7_img\n",
            "100% 500/500 [00:36<00:00, 13.85it/s]\n",
            "[21, 21]\n",
            "im3_kernel8_img\n",
            "100% 500/500 [00:36<00:00, 13.84it/s]\n",
            "[17, 17]\n",
            "im4_kernel1_img\n",
            "100% 500/500 [00:33<00:00, 14.76it/s]\n",
            "[15, 15]\n",
            "im4_kernel2_img\n",
            "100% 500/500 [00:33<00:00, 14.85it/s]\n",
            "[13, 13]\n",
            "im4_kernel3_img\n",
            "100% 500/500 [00:32<00:00, 15.22it/s]\n",
            "[27, 27]\n",
            "im4_kernel4_img\n",
            "100% 500/500 [00:39<00:00, 12.81it/s]\n",
            "[11, 11]\n",
            "im4_kernel5_img\n",
            "100% 500/500 [00:32<00:00, 15.23it/s]\n",
            "[19, 19]\n",
            "im4_kernel6_img\n",
            "100% 500/500 [00:35<00:00, 14.03it/s]\n",
            "[21, 21]\n",
            "im4_kernel7_img\n",
            "100% 500/500 [00:35<00:00, 13.94it/s]\n",
            "[21, 21]\n",
            "im4_kernel8_img\n",
            "100% 500/500 [00:35<00:00, 13.92it/s]\n"
          ]
        }
      ],
      "source": [
        "!python WDIP.py --data_path /content/W_DIP/datasets/levin/blur/ --save_path /content/results --ksize_path /content/W_DIP/kernel_estimates/levin_kernel.yaml --dataset_name levin --channels 1"
      ]
    },
    {
      "cell_type": "code",
      "execution_count": 7,
      "metadata": {
        "id": "E8CG67XdNqeG",
        "colab": {
          "base_uri": "https://localhost:8080/"
        },
        "outputId": "88fb2f70-74e7-475f-eff4-9a7ba4b9476d"
      },
      "outputs": [
        {
          "output_type": "stream",
          "name": "stdout",
          "text": [
            "[55, 55]\n",
            "natural_01_kernel_03\n",
            "100% 500/500 [05:59<00:00,  1.39it/s]\n"
          ]
        }
      ],
      "source": [
        "!python WDIP.py --data_path /content/W_DIP/datasets/lai/blur --save_path /content/results_lai --ksize_path /content/W_DIP/kernel_estimates/lai_kernel.yaml --dataset_name lai --channels 3"
      ]
    },
    {
      "cell_type": "code",
      "execution_count": 8,
      "metadata": {
        "id": "rjuhligTQypE",
        "colab": {
          "base_uri": "https://localhost:8080/"
        },
        "outputId": "2ef8f106-4aaf-407b-804f-659035d0c200"
      },
      "outputs": [
        {
          "output_type": "stream",
          "name": "stdout",
          "text": [
            "[15, 15]\n",
            "im0_k0\n",
            "100% 500/500 [00:34<00:00, 14.70it/s]\n",
            "[41, 41]\n",
            "im0_k1\n",
            "100% 500/500 [00:47<00:00, 10.61it/s]\n",
            "[31, 31]\n",
            "im0_k2\n",
            "100% 500/500 [00:39<00:00, 12.54it/s]\n",
            "[37, 37]\n",
            "im0_k3\n",
            "100% 500/500 [00:44<00:00, 11.18it/s]\n",
            "[15, 15]\n",
            "im1_k0\n",
            "100% 500/500 [00:33<00:00, 14.91it/s]\n",
            "[41, 41]\n",
            "im1_k1\n",
            "100% 500/500 [00:47<00:00, 10.54it/s]\n",
            "[31, 31]\n",
            "im1_k2\n",
            "100% 500/500 [00:39<00:00, 12.50it/s]\n",
            "[37, 37]\n",
            "im1_k3\n",
            "100% 500/500 [00:44<00:00, 11.23it/s]\n",
            "[15, 15]\n",
            "im2_k0\n",
            "100% 500/500 [00:33<00:00, 14.81it/s]\n",
            "[41, 41]\n",
            "im2_k1\n",
            "100% 500/500 [00:47<00:00, 10.55it/s]\n",
            "[31, 31]\n",
            "im2_k2\n",
            "100% 500/500 [00:39<00:00, 12.59it/s]\n",
            "[37, 37]\n",
            "im2_k3\n",
            "100% 500/500 [00:44<00:00, 11.15it/s]\n",
            "[15, 15]\n",
            "im3_k0\n",
            "100% 500/500 [00:33<00:00, 14.84it/s]\n",
            "[41, 41]\n",
            "im3_k1\n",
            "100% 500/500 [00:47<00:00, 10.58it/s]\n",
            "[31, 31]\n",
            "im3_k2\n",
            "100% 500/500 [00:40<00:00, 12.47it/s]\n",
            "[37, 37]\n",
            "im3_k3\n",
            "100% 500/500 [00:44<00:00, 11.23it/s]\n"
          ]
        }
      ],
      "source": [
        "!python WDIP.py --num_iter 500 --data_path /content/W_DIP/datasets/micro_bad/blur --save_path /content/results_microbad --ksize_path /content/W_DIP/kernel_estimates/micro_bad_kernel.yaml --dataset_name micro_bad --channels 1 --Gsize 20"
      ]
    },
    {
      "cell_type": "code",
      "execution_count": 9,
      "metadata": {
        "colab": {
          "base_uri": "https://localhost:8080/"
        },
        "id": "SRWs6ZpnRyAP",
        "outputId": "03de82e0-89ad-41f2-dfcf-b08f06772437"
      },
      "outputs": [
        {
          "output_type": "stream",
          "name": "stdout",
          "text": [
            "[15, 15]\n",
            "im0_k0\n",
            "100% 500/500 [00:33<00:00, 14.75it/s]\n",
            "[41, 41]\n",
            "im0_k1\n",
            "100% 500/500 [00:47<00:00, 10.63it/s]\n",
            "[31, 31]\n",
            "im0_k2\n",
            "100% 500/500 [00:40<00:00, 12.42it/s]\n",
            "[37, 37]\n",
            "im0_k3\n",
            "100% 500/500 [00:44<00:00, 11.22it/s]\n",
            "[15, 15]\n",
            "im1_k0\n",
            "100% 500/500 [00:33<00:00, 14.74it/s]\n",
            "[41, 41]\n",
            "im1_k1\n",
            "100% 500/500 [00:47<00:00, 10.58it/s]\n",
            "[31, 31]\n",
            "im1_k2\n",
            "100% 500/500 [00:39<00:00, 12.55it/s]\n",
            "[37, 37]\n",
            "im1_k3\n",
            "100% 500/500 [00:44<00:00, 11.13it/s]\n",
            "[15, 15]\n",
            "im2_k0\n",
            "100% 500/500 [00:33<00:00, 14.73it/s]\n",
            "[41, 41]\n",
            "im2_k1\n",
            "100% 500/500 [00:47<00:00, 10.60it/s]\n",
            "[31, 31]\n",
            "im2_k2\n",
            "100% 500/500 [00:40<00:00, 12.49it/s]\n",
            "[37, 37]\n",
            "im2_k3\n",
            "100% 500/500 [00:44<00:00, 11.22it/s]\n",
            "[15, 15]\n",
            "im3_k0\n",
            "100% 500/500 [00:33<00:00, 14.85it/s]\n",
            "[41, 41]\n",
            "im3_k1\n",
            "100% 500/500 [00:47<00:00, 10.57it/s]\n",
            "[31, 31]\n",
            "im3_k2\n",
            "100% 500/500 [00:39<00:00, 12.54it/s]\n",
            "[37, 37]\n",
            "im3_k3\n",
            "100% 500/500 [00:44<00:00, 11.14it/s]\n"
          ]
        }
      ],
      "source": [
        "!python WDIP.py --num_iter 500 --data_path /content/W_DIP/datasets/micro_bad/blur --save_path /content/results_microbad --ksize_path /content/W_DIP/kernel_estimates/micro_bad_kernel.yaml --dataset_name micro_bad --channels 1 --Gsize 20 --wa 1e-2 --wb 1e-1 --wk 1e-2"
      ]
    },
    {
      "cell_type": "code",
      "execution_count": 10,
      "metadata": {
        "colab": {
          "base_uri": "https://localhost:8080/"
        },
        "id": "l02mDE21Sw4M",
        "outputId": "ac14c284-40d4-4e82-92c6-4370a3b0c224"
      },
      "outputs": [
        {
          "output_type": "stream",
          "name": "stdout",
          "text": [
            "[19, 19]\n",
            "33_6_blurred\n",
            "100% 500/500 [04:45<00:00,  1.75it/s]\n"
          ]
        }
      ],
      "source": [
        "!python WDIP.py --data_path /content/W_DIP/datasets/sun/blur --save_path /content/results_sun --ksize_path /content/W_DIP/kernel_estimates/sun_kernel.yaml --dataset_name sun --channels 1"
      ]
    },
    {
      "cell_type": "code",
      "execution_count": 11,
      "metadata": {
        "colab": {
          "base_uri": "https://localhost:8080/"
        },
        "id": "3dG1vBwLTJXP",
        "outputId": "57a55584-2f17-4253-b038-1d2840d98cde"
      },
      "outputs": [
        {
          "output_type": "stream",
          "name": "stdout",
          "text": [
            "[51, 51]\n",
            "building1\n",
            "100% 500/500 [06:03<00:00,  1.37it/s]\n"
          ]
        }
      ],
      "source": [
        "!python WDIP.py --data_path /content/W_DIP/datasets/real/blur --save_path /content/results_real --dataset_name real --channels 3"
      ]
    },
    {
      "cell_type": "code",
      "execution_count": 12,
      "metadata": {
        "colab": {
          "base_uri": "https://localhost:8080/"
        },
        "id": "Qm9xRCK3Tc3c",
        "outputId": "4bc4110f-8f33-47a0-9091-6ecee739d38f"
      },
      "outputs": [
        {
          "output_type": "stream",
          "name": "stdout",
          "text": [
            "[17, 17]\n",
            "im1_kernel1_img\n",
            "100% 500/500 [00:34<00:00, 14.60it/s]\n",
            "[15, 15]\n",
            "im1_kernel2_img\n",
            "100% 500/500 [00:33<00:00, 14.90it/s]\n",
            "[13, 13]\n",
            "im1_kernel3_img\n",
            "100% 500/500 [00:32<00:00, 15.39it/s]\n",
            "[27, 27]\n",
            "im1_kernel4_img\n",
            "100% 500/500 [00:39<00:00, 12.70it/s]\n",
            "[11, 11]\n",
            "im1_kernel5_img\n",
            "100% 500/500 [00:32<00:00, 15.33it/s]\n",
            "[19, 19]\n",
            "im1_kernel6_img\n",
            "100% 500/500 [00:35<00:00, 13.93it/s]\n",
            "[21, 21]\n",
            "im1_kernel7_img\n",
            "100% 500/500 [00:36<00:00, 13.83it/s]\n",
            "[21, 21]\n",
            "im1_kernel8_img\n",
            "100% 500/500 [00:36<00:00, 13.82it/s]\n",
            "[17, 17]\n",
            "im2_kernel1_img\n",
            "100% 500/500 [00:34<00:00, 14.60it/s]\n",
            "[15, 15]\n",
            "im2_kernel2_img\n",
            "100% 500/500 [00:33<00:00, 14.80it/s]\n",
            "[13, 13]\n",
            "im2_kernel3_img\n",
            "100% 500/500 [00:32<00:00, 15.22it/s]\n",
            "[27, 27]\n",
            "im2_kernel4_img\n",
            "100% 500/500 [00:39<00:00, 12.63it/s]\n",
            "[11, 11]\n",
            "im2_kernel5_img\n",
            "100% 500/500 [00:32<00:00, 15.19it/s]\n",
            "[19, 19]\n",
            "im2_kernel6_img\n",
            "100% 500/500 [00:35<00:00, 13.90it/s]\n",
            "[21, 21]\n",
            "im2_kernel7_img\n",
            "100% 500/500 [00:36<00:00, 13.83it/s]\n",
            "[21, 21]\n",
            "im2_kernel8_img\n",
            "100% 500/500 [00:36<00:00, 13.81it/s]\n",
            "[17, 17]\n",
            "im3_kernel1_img\n",
            "100% 500/500 [00:34<00:00, 14.56it/s]\n",
            "[15, 15]\n",
            "im3_kernel2_img\n",
            "100% 500/500 [00:34<00:00, 14.62it/s]\n",
            "[13, 13]\n",
            "im3_kernel3_img\n",
            "100% 500/500 [00:33<00:00, 15.10it/s]\n",
            "[27, 27]\n",
            "im3_kernel4_img\n",
            "100% 500/500 [00:39<00:00, 12.58it/s]\n",
            "[11, 11]\n",
            "im3_kernel5_img\n",
            "100% 500/500 [00:33<00:00, 15.15it/s]\n",
            "[21, 21]\n",
            "im3_kernel7_img\n",
            "100% 500/500 [00:36<00:00, 13.79it/s]\n",
            "[21, 21]\n",
            "im3_kernel8_img\n",
            "100% 500/500 [00:36<00:00, 13.75it/s]\n",
            "[17, 17]\n",
            "im4_kernel1_img\n",
            "100% 500/500 [00:34<00:00, 14.50it/s]\n",
            "[15, 15]\n",
            "im4_kernel2_img\n",
            "100% 500/500 [00:34<00:00, 14.52it/s]\n",
            "[13, 13]\n",
            "im4_kernel3_img\n",
            "100% 500/500 [00:33<00:00, 15.01it/s]\n",
            "[27, 27]\n",
            "im4_kernel4_img\n",
            "100% 500/500 [00:39<00:00, 12.54it/s]\n",
            "[11, 11]\n",
            "im4_kernel5_img\n",
            "100% 500/500 [00:32<00:00, 15.25it/s]\n",
            "[19, 19]\n",
            "im4_kernel6_img\n",
            "100% 500/500 [00:36<00:00, 13.86it/s]\n",
            "[21, 21]\n",
            "im4_kernel7_img\n",
            "100% 500/500 [00:36<00:00, 13.78it/s]\n",
            "[21, 21]\n",
            "im4_kernel8_img\n",
            "100% 500/500 [00:36<00:00, 13.79it/s]\n"
          ]
        }
      ],
      "source": [
        "!python WDIP.py --data_path /content/W_DIP/datasets/levin/blur --save_path /content/results_sd --ksize_path /content/W_DIP/kernel_estimates/levin_kernel.yaml --dataset_name levin --channels 1 --wa 0 --wb 0 --wk 0"
      ]
    },
    {
      "cell_type": "code",
      "execution_count": null,
      "metadata": {
        "colab": {
          "background_save": true
        },
        "id": "tGJ-85c9V16A"
      },
      "outputs": [],
      "source": []
    }
  ],
  "metadata": {
    "accelerator": "GPU",
    "colab": {
      "gpuType": "T4",
      "provenance": [],
      "include_colab_link": true
    },
    "kernelspec": {
      "display_name": "Python 3",
      "name": "python3"
    },
    "language_info": {
      "name": "python"
    }
  },
  "nbformat": 4,
  "nbformat_minor": 0
}